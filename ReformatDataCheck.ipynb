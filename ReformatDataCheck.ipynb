{
 "cells": [
  {
   "cell_type": "code",
   "execution_count": 8,
   "metadata": {
    "collapsed": false
   },
   "outputs": [],
   "source": [
    "customer_15896 = []\n",
    "with open(\"Data/train_ver2.csv\") as myfile:\n",
    "    line = myfile.readline()\n",
    "    for line in myfile:\n",
    "        fields = line.split(',')\n",
    "        id = fields[1]\n",
    "        if id == \"  15896\":\n",
    "            customer_15896.append(line)\n",
    "    "
   ]
  },
  {
   "cell_type": "code",
   "execution_count": 10,
   "metadata": {
    "collapsed": false
   },
   "outputs": [
    {
     "name": "stdout",
     "output_type": "stream",
     "text": [
      "2015-06-28,  15896,F,ES,V, 49,1995-01-16, 0,    246, 1,,1,A,S,N,N,KAT,N, 1,28,\"MADRID\", 1,183021.75,02 - PARTICULARES,0,0,1,0,0,0,0,0,0,0,0,0,0,0,0,0,0,0,0,0,0, 0, 0,0\n",
      "\n",
      "2015-07-28,  15896,F,ES,V, 49,1995-01-16, 0,    246, 1,,1,A,S,N,N,KAT,N, 1,28,\"MADRID\", 1,183021.75,02 - PARTICULARES,0,0,1,0,0,0,0,0,0,0,0,0,0,0,0,0,0,0,0,0,0, 0, 0,0\n",
      "\n",
      "2015-08-28,  15896,F,ES,V, 50,1995-01-16, 0,    247, 1,,1,A,S,N,N,KAT,N, 1,28,\"MADRID\", 1,183021.75,02 - PARTICULARES,0,0,0,0,0,0,0,1,0,0,0,0,0,0,0,0,0,0,0,0,0, 0, 0,0\n",
      "\n",
      "2015-09-28,  15896,F,ES,V, 50,1995-01-16, 0,    248, 1,,1,A,S,N,N,KAT,N, 1,28,\"MADRID\", 1,183021.75,02 - PARTICULARES,0,0,0,0,0,0,0,1,0,0,0,0,0,0,0,0,0,0,0,0,0, 0, 0,0\n",
      "\n",
      "2015-10-28,  15896,F,ES,V, 50,1995-01-16, 0,    249, 1,,1,A,S,N,N,KAT,N, 1,28,\"MADRID\", 1,183021.75,02 - PARTICULARES,0,0,0,0,0,0,0,1,0,0,0,0,0,0,0,0,0,0,0,0,0, 0, 0,0\n",
      "\n",
      "2015-11-28,  15896,F,ES,V, 50,1995-01-16, 0,    250, 1,,1,A,S,N,N,KAT,N, 1,28,\"MADRID\", 1,183021.75,02 - PARTICULARES,0,0,0,0,0,0,0,1,0,0,0,0,0,0,0,0,0,0,0,0,0, 0, 0,0\n",
      "\n",
      "2015-12-28,  15896,F,ES,V, 50,1995-01-16, 0,    251, 1,,1,A,S,N,N,KAT,N, 1,28,\"MADRID\", 1,183021.75,02 - PARTICULARES,0,0,1,0,0,0,0,0,0,0,0,0,0,0,0,0,0,0,0,0,0, 0, 0,0\n",
      "\n",
      "2016-01-28,  15896,F,ES,V, 50,1995-01-16, 0,    252, 1,,1,A,S,N,N,KAT,N, 1,28,\"MADRID\", 1,183021.75,02 - PARTICULARES,0,0,1,0,0,0,0,1,0,0,0,0,0,0,0,0,0,0,0,0,0, 0, 0,0\n",
      "\n",
      "2016-02-28,  15896,F,ES,V, 50,1995-01-16, 0,    253, 1,,1,A,S,N,N,KAT,N, 1,28,\"MADRID\", 1,183021.75,02 - PARTICULARES,0,0,1,0,0,0,0,1,0,0,0,0,1,0,0,0,0,0,0,0,0, 0, 0,0\n",
      "\n",
      "2016-03-28,  15896,F,ES,V, 50,1995-01-16, 0,    254, 1,,1,A,S,N,N,KAT,N, 1,28,\"MADRID\", 1,183021.75,02 - PARTICULARES,0,0,1,0,0,0,0,1,0,0,0,0,1,0,0,0,0,0,0,1,0, 0, 0,0\n",
      "\n",
      "2016-04-28,  15896,F,ES,V, 50,1995-01-16, 0,    255, 1,,1,A,S,N,N,KAT,N, 1,28,\"MADRID\", 1,183021.75,01 - TOP,0,0,1,0,0,0,0,1,0,0,0,0,1,0,0,0,0,0,0,1,0, 0, 0,0\n",
      "\n",
      "2016-05-28,  15896,F,ES,V, 50,1995-01-16, 0,    256, 1,,1,A,S,N,N,KAT,N, 1,28,\"MADRID\", 1,183021.75,01 - TOP,0,0,1,0,0,0,0,1,0,0,0,0,1,0,0,0,0,0,0,1,0, 0, 0,0\n",
      "\n"
     ]
    }
   ],
   "source": [
    "for line in customer_15896:\n",
    "    print(line)"
   ]
  },
  {
   "cell_type": "code",
   "execution_count": 17,
   "metadata": {
    "collapsed": false
   },
   "outputs": [
    {
     "name": "stdout",
     "output_type": "stream",
     "text": [
      "customer_code = 15896\n",
      "employee_index = |||||F|F|F|F|F|F|F|F|F|F|F|F\n",
      "country = ES\n",
      "sex = V\n",
      "age = 49\n",
      "date_begin_contract = 1995-01-16\n",
      "new_customer_index = |||||0|0|0|0|0|0|0|0|0|0|0|0\n",
      "seniority = |||||246|246|247|248|249|250|251|252|253|254|255|256\n",
      "primary_at_month_end = |||||1|1|1|1|1|1|1|1|1|1|1|1\n",
      "last_date_as_primary = ||||||||||||||||\n",
      "customer_type_begin_month = |||||1|1|1|1|1|1|1|1|1|1|1|1\n",
      "relation_type_begin_month = |||||A|A|A|A|A|A|A|A|A|A|A|A\n",
      "residence_index = S\n",
      "foreigner_index = N\n",
      "spouse_index = N\n",
      "join_channel = KAT\n",
      "deceased_index = N\n",
      "address_type = 1\n",
      "province_code = 28\n",
      "province_name = \"MADRID\"\n",
      "activity_index = |||||1|1|1|1|1|1|1|1|1|1|1|1\n",
      "gross_income = 183021.75\n",
      "segmentation = 02 - PARTICULARES\n",
      "Saving_Account = |||||0|0|0|0|0|0|0|0|0|0|0|0\n",
      "Guarantees = |||||0|0|0|0|0|0|0|0|0|0|0|0\n",
      "Current_Accounts = |||||1|1|0|0|0|0|1|1|1|1|1|1\n",
      "Derivada_Account = |||||0|0|0|0|0|0|0|0|0|0|0|0\n",
      "Payroll_Account = |||||0|0|0|0|0|0|0|0|0|0|0|0\n",
      "Junior_Account = |||||0|0|0|0|0|0|0|0|0|0|0|0\n",
      "Mas_Particular_Account = |||||0|0|0|0|0|0|0|0|0|0|0|0\n",
      "Particular_Account = |||||0|0|1|1|1|1|0|1|1|1|1|1\n",
      "Particular_Plus_Account = |||||0|0|0|0|0|0|0|0|0|0|0|0\n",
      "Short_Term_Deposits = |||||0|0|0|0|0|0|0|0|0|0|0|0\n",
      "Medium_Term_Deposits = |||||0|0|0|0|0|0|0|0|0|0|0|0\n",
      "Long_Term_Deposite = |||||0|0|0|0|0|0|0|0|0|0|0|0\n",
      "E_Account = |||||0|0|0|0|0|0|0|0|1|1|1|1\n",
      "Funds = |||||0|0|0|0|0|0|0|0|0|0|0|0\n",
      "Mortgage = |||||0|0|0|0|0|0|0|0|0|0|0|0\n",
      "Pensions_1 = |||||0|0|0|0|0|0|0|0|0|0|0|0\n",
      "Loans = |||||0|0|0|0|0|0|0|0|0|0|0|0\n",
      "Taxes = |||||0|0|0|0|0|0|0|0|0|0|0|0\n",
      "Credit_Card = |||||0|0|0|0|0|0|0|0|0|0|0|0\n",
      "Securities = |||||0|0|0|0|0|0|0|0|0|1|1|1\n",
      "Home_Account = |||||0|0|0|0|0|0|0|0|0|0|0|0\n",
      "Payroll = |||||0|0|0|0|0|0|0|0|0|0|0|0\n",
      "Pensions_2 = |||||0|0|0|0|0|0|0|0|0|0|0|0\n",
      "Direct_Debit\n",
      " = |||||0|0|0|0|0|0|0|0|0|0|0|0\n",
      "\n"
     ]
    }
   ],
   "source": [
    "with open(\"Data/train_ver2_processed.csv\", \"rU\") as myfile:     \n",
    "    first_line = myfile.readline()\n",
    "    labels = first_line.split(',')\n",
    "    for line in myfile:\n",
    "        fields = line.split(',')\n",
    "        id = fields[0]\n",
    "        if id == \"15896\":\n",
    "            break\n",
    "            \n",
    "for i in range(len(fields)):\n",
    "    print labels[i] + ' = ' + fields[i]"
   ]
  },
  {
   "cell_type": "code",
   "execution_count": 26,
   "metadata": {
    "collapsed": false
   },
   "outputs": [
    {
     "name": "stdout",
     "output_type": "stream",
     "text": [
      "\"segmento\" = 02 - PARTICULARES\n"
     ]
    }
   ],
   "source": [
    "order = 23\n",
    "segmentations = set()\n",
    "\n",
    "with open(\"Data/train_ver2.csv\") as myfile:\n",
    "    first_line = myfile.readline()\n",
    "    second_line = myfile.readline()\n",
    "    labels = first_line.split(',')\n",
    "    fields = second_line.split(',')\n",
    "    \n",
    "    print labels[order] + ' = ' + fields[order] \n",
    "    \n",
    "    for line in myfile:\n",
    "        fields = line.split(',')\n",
    "        segmentations.add(fields[24])"
   ]
  },
  {
   "cell_type": "code",
   "execution_count": 19,
   "metadata": {
    "collapsed": false
   },
   "outputs": [
    {
     "data": {
      "text/plain": [
       "{'', '0', '01 - TOP', '02 - PARTICULARES', '03 - UNIVERSITARIO', '1'}"
      ]
     },
     "execution_count": 19,
     "metadata": {},
     "output_type": "execute_result"
    }
   ],
   "source": [
    "segmentations"
   ]
  }
 ],
 "metadata": {
  "anaconda-cloud": {},
  "kernelspec": {
   "display_name": "Python [default]",
   "language": "python",
   "name": "python2"
  },
  "language_info": {
   "codemirror_mode": {
    "name": "ipython",
    "version": 2
   },
   "file_extension": ".py",
   "mimetype": "text/x-python",
   "name": "python",
   "nbconvert_exporter": "python",
   "pygments_lexer": "ipython2",
   "version": "2.7.12"
  }
 },
 "nbformat": 4,
 "nbformat_minor": 1
}
